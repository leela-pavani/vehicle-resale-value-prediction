{
 "cells": [
  {
   "cell_type": "markdown",
   "metadata": {},
   "source": [
    "# Importing Libraries"
   ]
  },
  {
   "cell_type": "code",
   "execution_count": 100,
   "metadata": {},
   "outputs": [],
   "source": [
    "import numpy as np\n",
    "import pandas as pd\n",
    "import matplotlib.pyplot as plt\n",
    "import seaborn as sns"
   ]
  },
  {
   "cell_type": "markdown",
   "metadata": {},
   "source": [
    "# Reading dataset"
   ]
  },
  {
   "cell_type": "code",
   "execution_count": 101,
   "metadata": {},
   "outputs": [
    {
     "name": "stderr",
     "output_type": "stream",
     "text": [
      "C:\\Users\\DELL\\anaconda3\\lib\\site-packages\\IPython\\core\\interactiveshell.py:3441: DtypeWarning: Columns (11) have mixed types.Specify dtype option on import or set low_memory=False.\n",
      "  exec(code_obj, self.user_global_ns, self.user_ns)\n"
     ]
    },
    {
     "data": {
      "text/html": [
       "<div>\n",
       "<style scoped>\n",
       "    .dataframe tbody tr th:only-of-type {\n",
       "        vertical-align: middle;\n",
       "    }\n",
       "\n",
       "    .dataframe tbody tr th {\n",
       "        vertical-align: top;\n",
       "    }\n",
       "\n",
       "    .dataframe thead th {\n",
       "        text-align: right;\n",
       "    }\n",
       "</style>\n",
       "<table border=\"1\" class=\"dataframe\">\n",
       "  <thead>\n",
       "    <tr style=\"text-align: right;\">\n",
       "      <th></th>\n",
       "      <th>dateCrawled</th>\n",
       "      <th>name</th>\n",
       "      <th>seller</th>\n",
       "      <th>offerType</th>\n",
       "      <th>price</th>\n",
       "      <th>abtest</th>\n",
       "      <th>vehicleType</th>\n",
       "      <th>yearOfRegistration</th>\n",
       "      <th>gearbox</th>\n",
       "      <th>powerPS</th>\n",
       "      <th>model</th>\n",
       "      <th>kilometer</th>\n",
       "      <th>monthOfRegistration</th>\n",
       "      <th>fuelType</th>\n",
       "      <th>brand</th>\n",
       "      <th>notRepairedDamage</th>\n",
       "      <th>dateCreated</th>\n",
       "      <th>nrOfPictures</th>\n",
       "      <th>postalCode</th>\n",
       "      <th>lastSeen</th>\n",
       "    </tr>\n",
       "  </thead>\n",
       "  <tbody>\n",
       "    <tr>\n",
       "      <th>0</th>\n",
       "      <td>24-03-2016 11:52</td>\n",
       "      <td>Golf_3_1.6</td>\n",
       "      <td>privat</td>\n",
       "      <td>Angebot</td>\n",
       "      <td>480.0</td>\n",
       "      <td>test</td>\n",
       "      <td>NaN</td>\n",
       "      <td>1993.0</td>\n",
       "      <td>manuell</td>\n",
       "      <td>0.0</td>\n",
       "      <td>golf</td>\n",
       "      <td>150000</td>\n",
       "      <td>0.0</td>\n",
       "      <td>benzin</td>\n",
       "      <td>volkswagen</td>\n",
       "      <td>NaN</td>\n",
       "      <td>24-03-2016 00:00</td>\n",
       "      <td>0.0</td>\n",
       "      <td>70435.0</td>\n",
       "      <td>07-04-2016 03:16</td>\n",
       "    </tr>\n",
       "    <tr>\n",
       "      <th>1</th>\n",
       "      <td>24-03-2016 10:58</td>\n",
       "      <td>A5_Sportback_2.7_Tdi</td>\n",
       "      <td>privat</td>\n",
       "      <td>Angebot</td>\n",
       "      <td>18300.0</td>\n",
       "      <td>test</td>\n",
       "      <td>coupe</td>\n",
       "      <td>2011.0</td>\n",
       "      <td>manuell</td>\n",
       "      <td>190.0</td>\n",
       "      <td>golf</td>\n",
       "      <td>125000</td>\n",
       "      <td>5.0</td>\n",
       "      <td>diesel</td>\n",
       "      <td>audi</td>\n",
       "      <td>ja</td>\n",
       "      <td>24-03-2016 00:00</td>\n",
       "      <td>0.0</td>\n",
       "      <td>66954.0</td>\n",
       "      <td>07-04-2016 01:46</td>\n",
       "    </tr>\n",
       "    <tr>\n",
       "      <th>2</th>\n",
       "      <td>14-03-2016 12:52</td>\n",
       "      <td>Jeep_Grand_Cherokee_\"Overland\"</td>\n",
       "      <td>privat</td>\n",
       "      <td>Angebot</td>\n",
       "      <td>9800.0</td>\n",
       "      <td>test</td>\n",
       "      <td>suv</td>\n",
       "      <td>2004.0</td>\n",
       "      <td>automatik</td>\n",
       "      <td>163.0</td>\n",
       "      <td>grand</td>\n",
       "      <td>125000</td>\n",
       "      <td>8.0</td>\n",
       "      <td>diesel</td>\n",
       "      <td>jeep</td>\n",
       "      <td>NaN</td>\n",
       "      <td>14-03-2016 00:00</td>\n",
       "      <td>0.0</td>\n",
       "      <td>90480.0</td>\n",
       "      <td>05-04-2016 12:47</td>\n",
       "    </tr>\n",
       "    <tr>\n",
       "      <th>3</th>\n",
       "      <td>17-03-2016 16:54</td>\n",
       "      <td>GOLF_4_1_4__3TÜRER</td>\n",
       "      <td>privat</td>\n",
       "      <td>Angebot</td>\n",
       "      <td>1500.0</td>\n",
       "      <td>test</td>\n",
       "      <td>kleinwagen</td>\n",
       "      <td>2001.0</td>\n",
       "      <td>manuell</td>\n",
       "      <td>75.0</td>\n",
       "      <td>golf</td>\n",
       "      <td>150000</td>\n",
       "      <td>6.0</td>\n",
       "      <td>benzin</td>\n",
       "      <td>volkswagen</td>\n",
       "      <td>nein</td>\n",
       "      <td>17-03-2016 00:00</td>\n",
       "      <td>0.0</td>\n",
       "      <td>91074.0</td>\n",
       "      <td>17-03-2016 17:40</td>\n",
       "    </tr>\n",
       "    <tr>\n",
       "      <th>4</th>\n",
       "      <td>31-03-2016 17:25</td>\n",
       "      <td>Skoda_Fabia_1.4_TDI_PD_Classic</td>\n",
       "      <td>privat</td>\n",
       "      <td>Angebot</td>\n",
       "      <td>3600.0</td>\n",
       "      <td>test</td>\n",
       "      <td>kleinwagen</td>\n",
       "      <td>2008.0</td>\n",
       "      <td>manuell</td>\n",
       "      <td>69.0</td>\n",
       "      <td>fabia</td>\n",
       "      <td>90000</td>\n",
       "      <td>7.0</td>\n",
       "      <td>diesel</td>\n",
       "      <td>skoda</td>\n",
       "      <td>nein</td>\n",
       "      <td>31-03-2016 00:00</td>\n",
       "      <td>0.0</td>\n",
       "      <td>60437.0</td>\n",
       "      <td>06-04-2016 10:17</td>\n",
       "    </tr>\n",
       "  </tbody>\n",
       "</table>\n",
       "</div>"
      ],
      "text/plain": [
       "        dateCrawled                            name  seller offerType  \\\n",
       "0  24-03-2016 11:52                      Golf_3_1.6  privat   Angebot   \n",
       "1  24-03-2016 10:58            A5_Sportback_2.7_Tdi  privat   Angebot   \n",
       "2  14-03-2016 12:52  Jeep_Grand_Cherokee_\"Overland\"  privat   Angebot   \n",
       "3  17-03-2016 16:54              GOLF_4_1_4__3TÜRER  privat   Angebot   \n",
       "4  31-03-2016 17:25  Skoda_Fabia_1.4_TDI_PD_Classic  privat   Angebot   \n",
       "\n",
       "     price abtest vehicleType  yearOfRegistration    gearbox  powerPS  model  \\\n",
       "0    480.0   test         NaN              1993.0    manuell      0.0   golf   \n",
       "1  18300.0   test       coupe              2011.0    manuell    190.0   golf   \n",
       "2   9800.0   test         suv              2004.0  automatik    163.0  grand   \n",
       "3   1500.0   test  kleinwagen              2001.0    manuell     75.0   golf   \n",
       "4   3600.0   test  kleinwagen              2008.0    manuell     69.0  fabia   \n",
       "\n",
       "  kilometer  monthOfRegistration fuelType       brand notRepairedDamage  \\\n",
       "0    150000                  0.0   benzin  volkswagen               NaN   \n",
       "1    125000                  5.0   diesel        audi                ja   \n",
       "2    125000                  8.0   diesel        jeep               NaN   \n",
       "3    150000                  6.0   benzin  volkswagen              nein   \n",
       "4     90000                  7.0   diesel       skoda              nein   \n",
       "\n",
       "        dateCreated  nrOfPictures  postalCode          lastSeen  \n",
       "0  24-03-2016 00:00           0.0     70435.0  07-04-2016 03:16  \n",
       "1  24-03-2016 00:00           0.0     66954.0  07-04-2016 01:46  \n",
       "2  14-03-2016 00:00           0.0     90480.0  05-04-2016 12:47  \n",
       "3  17-03-2016 00:00           0.0     91074.0  17-03-2016 17:40  \n",
       "4  31-03-2016 00:00           0.0     60437.0  06-04-2016 10:17  "
      ]
     },
     "execution_count": 101,
     "metadata": {},
     "output_type": "execute_result"
    }
   ],
   "source": [
    "data=pd.read_csv('autos.csv',encoding='ISO-8859–1')\n",
    "data.head()"
   ]
  },
  {
   "cell_type": "code",
   "execution_count": 102,
   "metadata": {},
   "outputs": [
    {
     "name": "stdout",
     "output_type": "stream",
     "text": [
      "<class 'pandas.core.frame.DataFrame'>\n",
      "RangeIndex: 371539 entries, 0 to 371538\n",
      "Data columns (total 20 columns):\n",
      " #   Column               Non-Null Count   Dtype  \n",
      "---  ------               --------------   -----  \n",
      " 0   dateCrawled          371539 non-null  object \n",
      " 1   name                 371539 non-null  object \n",
      " 2   seller               371538 non-null  object \n",
      " 3   offerType            371538 non-null  object \n",
      " 4   price                371538 non-null  float64\n",
      " 5   abtest               371538 non-null  object \n",
      " 6   vehicleType          333669 non-null  object \n",
      " 7   yearOfRegistration   371537 non-null  float64\n",
      " 8   gearbox              351329 non-null  object \n",
      " 9   powerPS              371538 non-null  float64\n",
      " 10  model                351055 non-null  object \n",
      " 11  kilometer            371538 non-null  object \n",
      " 12  monthOfRegistration  371537 non-null  float64\n",
      " 13  fuelType             338151 non-null  object \n",
      " 14  brand                371537 non-null  object \n",
      " 15  notRepairedDamage    299477 non-null  object \n",
      " 16  dateCreated          371537 non-null  object \n",
      " 17  nrOfPictures         371537 non-null  float64\n",
      " 18  postalCode           371537 non-null  float64\n",
      " 19  lastSeen             371537 non-null  object \n",
      "dtypes: float64(6), object(14)\n",
      "memory usage: 56.7+ MB\n"
     ]
    }
   ],
   "source": [
    "data.info()"
   ]
  },
  {
   "cell_type": "markdown",
   "metadata": {},
   "source": [
    "<h6> Data Description </h6>\n",
    "<p> dateCrawled = When the ad was first crawled  <br>\n",
    "    name = name of the car model<br>\n",
    "seller = Private seller or dealer<br>\n",
    "offerType <br>\n",
    "price = price listed on the add to sell the car <br>\n",
    "abtest <br>\n",
    "vehicleType = coupe/sedan/wagon <br>\n",
    "yearOfRegistration = Year of first registration of the car <br>\n",
    "gearbox = Auto / manual <br>\n",
    "powerPS = horse power of the car in PS (Metric horsepower) <br>\n",
    "model <br>\n",
    "Kilometer = amount of kilometers the car had driven <br>\n",
    "month of registration = Month of first registration <br>\n",
    "fuelType = Diesel / Petrol <br>\n",
    "brand <br>\n",
    "notRepairedDamage = Whether the car has damage not repaired <br>\n",
    "dateCreated = the date of which the ad at Ebay was created <br>\n",
    "nrOfPictures = number of pictures in the ad (bug in crawler)<br>\n",
    "postalCode = postcode of the car location <br>\n",
    "lastSeenOnline = when the crawler saw this ad last online </p>"
   ]
  },
  {
   "cell_type": "code",
   "execution_count": 103,
   "metadata": {},
   "outputs": [
    {
     "data": {
      "text/html": [
       "<div>\n",
       "<style scoped>\n",
       "    .dataframe tbody tr th:only-of-type {\n",
       "        vertical-align: middle;\n",
       "    }\n",
       "\n",
       "    .dataframe tbody tr th {\n",
       "        vertical-align: top;\n",
       "    }\n",
       "\n",
       "    .dataframe thead th {\n",
       "        text-align: right;\n",
       "    }\n",
       "</style>\n",
       "<table border=\"1\" class=\"dataframe\">\n",
       "  <thead>\n",
       "    <tr style=\"text-align: right;\">\n",
       "      <th></th>\n",
       "      <th>price</th>\n",
       "      <th>yearOfRegistration</th>\n",
       "      <th>powerPS</th>\n",
       "      <th>monthOfRegistration</th>\n",
       "      <th>nrOfPictures</th>\n",
       "      <th>postalCode</th>\n",
       "    </tr>\n",
       "  </thead>\n",
       "  <tbody>\n",
       "    <tr>\n",
       "      <th>count</th>\n",
       "      <td>3.715380e+05</td>\n",
       "      <td>371537.000000</td>\n",
       "      <td>371538.000000</td>\n",
       "      <td>371537.000000</td>\n",
       "      <td>371537.0</td>\n",
       "      <td>371537.000000</td>\n",
       "    </tr>\n",
       "    <tr>\n",
       "      <th>mean</th>\n",
       "      <td>1.729544e+04</td>\n",
       "      <td>2004.577883</td>\n",
       "      <td>115.548840</td>\n",
       "      <td>5.734473</td>\n",
       "      <td>0.0</td>\n",
       "      <td>50820.666402</td>\n",
       "    </tr>\n",
       "    <tr>\n",
       "      <th>std</th>\n",
       "      <td>3.587905e+06</td>\n",
       "      <td>92.865496</td>\n",
       "      <td>192.137238</td>\n",
       "      <td>3.712383</td>\n",
       "      <td>0.0</td>\n",
       "      <td>25799.080292</td>\n",
       "    </tr>\n",
       "    <tr>\n",
       "      <th>min</th>\n",
       "      <td>0.000000e+00</td>\n",
       "      <td>1000.000000</td>\n",
       "      <td>0.000000</td>\n",
       "      <td>0.000000</td>\n",
       "      <td>0.0</td>\n",
       "      <td>1067.000000</td>\n",
       "    </tr>\n",
       "    <tr>\n",
       "      <th>25%</th>\n",
       "      <td>1.150000e+03</td>\n",
       "      <td>1999.000000</td>\n",
       "      <td>70.000000</td>\n",
       "      <td>3.000000</td>\n",
       "      <td>0.0</td>\n",
       "      <td>30459.000000</td>\n",
       "    </tr>\n",
       "    <tr>\n",
       "      <th>50%</th>\n",
       "      <td>2.950000e+03</td>\n",
       "      <td>2003.000000</td>\n",
       "      <td>105.000000</td>\n",
       "      <td>6.000000</td>\n",
       "      <td>0.0</td>\n",
       "      <td>49610.000000</td>\n",
       "    </tr>\n",
       "    <tr>\n",
       "      <th>75%</th>\n",
       "      <td>7.200000e+03</td>\n",
       "      <td>2008.000000</td>\n",
       "      <td>150.000000</td>\n",
       "      <td>9.000000</td>\n",
       "      <td>0.0</td>\n",
       "      <td>71546.000000</td>\n",
       "    </tr>\n",
       "    <tr>\n",
       "      <th>max</th>\n",
       "      <td>2.147484e+09</td>\n",
       "      <td>9999.000000</td>\n",
       "      <td>20000.000000</td>\n",
       "      <td>12.000000</td>\n",
       "      <td>0.0</td>\n",
       "      <td>99998.000000</td>\n",
       "    </tr>\n",
       "  </tbody>\n",
       "</table>\n",
       "</div>"
      ],
      "text/plain": [
       "              price  yearOfRegistration        powerPS  monthOfRegistration  \\\n",
       "count  3.715380e+05       371537.000000  371538.000000        371537.000000   \n",
       "mean   1.729544e+04         2004.577883     115.548840             5.734473   \n",
       "std    3.587905e+06           92.865496     192.137238             3.712383   \n",
       "min    0.000000e+00         1000.000000       0.000000             0.000000   \n",
       "25%    1.150000e+03         1999.000000      70.000000             3.000000   \n",
       "50%    2.950000e+03         2003.000000     105.000000             6.000000   \n",
       "75%    7.200000e+03         2008.000000     150.000000             9.000000   \n",
       "max    2.147484e+09         9999.000000   20000.000000            12.000000   \n",
       "\n",
       "       nrOfPictures     postalCode  \n",
       "count      371537.0  371537.000000  \n",
       "mean            0.0   50820.666402  \n",
       "std             0.0   25799.080292  \n",
       "min             0.0    1067.000000  \n",
       "25%             0.0   30459.000000  \n",
       "50%             0.0   49610.000000  \n",
       "75%             0.0   71546.000000  \n",
       "max             0.0   99998.000000  "
      ]
     },
     "execution_count": 103,
     "metadata": {},
     "output_type": "execute_result"
    }
   ],
   "source": [
    "data.describe()"
   ]
  },
  {
   "cell_type": "markdown",
   "metadata": {},
   "source": [
    "<h3> Data Visualization </h3>"
   ]
  },
  {
   "cell_type": "code",
   "execution_count": 104,
   "metadata": {},
   "outputs": [
    {
     "data": {
      "text/plain": [
       "count    3.715380e+05\n",
       "mean     1.729544e+04\n",
       "std      3.587905e+06\n",
       "min      0.000000e+00\n",
       "25%      1.150000e+03\n",
       "50%      2.950000e+03\n",
       "75%      7.200000e+03\n",
       "max      2.147484e+09\n",
       "Name: price, dtype: float64"
      ]
     },
     "execution_count": 104,
     "metadata": {},
     "output_type": "execute_result"
    }
   ],
   "source": [
    "data['price'].describe()\n",
    "#there are outliers"
   ]
  },
  {
   "cell_type": "code",
   "execution_count": 105,
   "metadata": {},
   "outputs": [
    {
     "data": {
      "text/plain": [
       "<AxesSubplot:xlabel='index', ylabel='Price'>"
      ]
     },
     "execution_count": 105,
     "metadata": {},
     "output_type": "execute_result"
    },
    {
     "data": {
      "image/png": "[encoded data removed]",
      "text/plain": [
       "<Figure size 432x288 with 1 Axes>"
      ]
     },
     "metadata": {
      "needs_background": "light"
     },
     "output_type": "display_data"
    }
   ],
   "source": [
    "data['price'].plot(xlabel='index',ylabel='Price')"
   ]
  },
  {
   "cell_type": "code",
   "execution_count": 106,
   "metadata": {},
   "outputs": [
    {
     "data": {
      "text/plain": [
       "<AxesSubplot:title={'center':'yearOfRegistration vs price with outliers'}, xlabel='yearOfRegistration', ylabel='price'>"
      ]
     },
     "execution_count": 106,
     "metadata": {},
     "output_type": "execute_result"
    },
    {
     "data": {
      "image/png": "[encoded data removed]",
      "text/plain": [
       "<Figure size 432x288 with 1 Axes>"
      ]
     },
     "metadata": {
      "needs_background": "light"
     },
     "output_type": "display_data"
    }
   ],
   "source": [
    "plt.title('yearOfRegistration vs price with outliers')\n",
    "sns.scatterplot(x='yearOfRegistration',y='price',data=data)"
   ]
  },
  {
   "cell_type": "code",
   "execution_count": 107,
   "metadata": {},
   "outputs": [
    {
     "data": {
      "text/html": [
       "<div>\n",
       "<style scoped>\n",
       "    .dataframe tbody tr th:only-of-type {\n",
       "        vertical-align: middle;\n",
       "    }\n",
       "\n",
       "    .dataframe tbody tr th {\n",
       "        vertical-align: top;\n",
       "    }\n",
       "\n",
       "    .dataframe thead th {\n",
       "        text-align: right;\n",
       "    }\n",
       "</style>\n",
       "<table border=\"1\" class=\"dataframe\">\n",
       "  <thead>\n",
       "    <tr style=\"text-align: right;\">\n",
       "      <th></th>\n",
       "      <th>dateCrawled</th>\n",
       "      <th>name</th>\n",
       "      <th>seller</th>\n",
       "      <th>offerType</th>\n",
       "      <th>price</th>\n",
       "      <th>abtest</th>\n",
       "      <th>vehicleType</th>\n",
       "      <th>yearOfRegistration</th>\n",
       "      <th>gearbox</th>\n",
       "      <th>powerPS</th>\n",
       "      <th>model</th>\n",
       "      <th>kilometer</th>\n",
       "      <th>monthOfRegistration</th>\n",
       "      <th>fuelType</th>\n",
       "      <th>brand</th>\n",
       "      <th>notRepairedDamage</th>\n",
       "      <th>dateCreated</th>\n",
       "      <th>nrOfPictures</th>\n",
       "      <th>postalCode</th>\n",
       "      <th>lastSeen</th>\n",
       "    </tr>\n",
       "  </thead>\n",
       "  <tbody>\n",
       "    <tr>\n",
       "      <th>129969</th>\n",
       "      <td>11-03-2016 08:37</td>\n",
       "      <td>Kaufe_AUTOS_Zum_basteln</td>\n",
       "      <td>privat</td>\n",
       "      <td>Angebot</td>\n",
       "      <td>2.147484e+09</td>\n",
       "      <td>test</td>\n",
       "      <td>andere</td>\n",
       "      <td>1996.0</td>\n",
       "      <td>manuell</td>\n",
       "      <td>888.0</td>\n",
       "      <td>NaN</td>\n",
       "      <td>150000</td>\n",
       "      <td>1.0</td>\n",
       "      <td>andere</td>\n",
       "      <td>sonstige_autos</td>\n",
       "      <td>ja</td>\n",
       "      <td>11-03-2016 00:00</td>\n",
       "      <td>0.0</td>\n",
       "      <td>4720.0</td>\n",
       "      <td>20-03-2016 11:45</td>\n",
       "    </tr>\n",
       "  </tbody>\n",
       "</table>\n",
       "</div>"
      ],
      "text/plain": [
       "             dateCrawled                     name  seller offerType  \\\n",
       "129969  11-03-2016 08:37  Kaufe_AUTOS_Zum_basteln  privat   Angebot   \n",
       "\n",
       "               price abtest vehicleType  yearOfRegistration  gearbox  powerPS  \\\n",
       "129969  2.147484e+09   test      andere              1996.0  manuell    888.0   \n",
       "\n",
       "       model kilometer  monthOfRegistration fuelType           brand  \\\n",
       "129969   NaN    150000                  1.0   andere  sonstige_autos   \n",
       "\n",
       "       notRepairedDamage       dateCreated  nrOfPictures  postalCode  \\\n",
       "129969                ja  11-03-2016 00:00           0.0      4720.0   \n",
       "\n",
       "                lastSeen  \n",
       "129969  20-03-2016 11:45  "
      ]
     },
     "execution_count": 107,
     "metadata": {},
     "output_type": "execute_result"
    }
   ],
   "source": [
    "data[data['price']==data['price'].max()]"
   ]
  },
  {
   "cell_type": "code",
   "execution_count": 108,
   "metadata": {},
   "outputs": [],
   "source": [
    "data.drop(index=129969,inplace=True,axis=0)"
   ]
  },
  {
   "cell_type": "code",
   "execution_count": 109,
   "metadata": {},
   "outputs": [
    {
     "data": {
      "text/plain": [
       "<AxesSubplot:xlabel='yearOfRegistration', ylabel='price'>"
      ]
     },
     "execution_count": 109,
     "metadata": {},
     "output_type": "execute_result"
    },
    {
     "data": {
      "image/png": "[encoded data removed]",
      "text/plain": [
       "<Figure size 432x288 with 1 Axes>"
      ]
     },
     "metadata": {
      "needs_background": "light"
     },
     "output_type": "display_data"
    }
   ],
   "source": [
    "sns.scatterplot(x='yearOfRegistration',y='price',data=data)"
   ]
  },
  {
   "cell_type": "code",
   "execution_count": 110,
   "metadata": {},
   "outputs": [
    {
     "data": {
      "text/plain": [
       "(4134, 20)"
      ]
     },
     "execution_count": 110,
     "metadata": {},
     "output_type": "execute_result"
    }
   ],
   "source": [
    "#We can see yearOfRegistration goes from 1000 to 9999 but 50% of the values are nearby 1999\n",
    "data[data.yearOfRegistration > 2017].shape"
   ]
  },
  {
   "cell_type": "code",
   "execution_count": 111,
   "metadata": {},
   "outputs": [
    {
     "data": {
      "text/plain": [
       "(289, 20)"
      ]
     },
     "execution_count": 111,
     "metadata": {},
     "output_type": "execute_result"
    }
   ],
   "source": [
    "data[data.yearOfRegistration < 1950].shape"
   ]
  },
  {
   "cell_type": "code",
   "execution_count": 112,
   "metadata": {},
   "outputs": [],
   "source": [
    "#So only 289 registration are there before 1950 and 4000 registration after 2017 , so these are outliers and should be removed for better results\n",
    "data = data[(data.yearOfRegistration <= 2017)  & (data.yearOfRegistration > 1950)]"
   ]
  },
  {
   "cell_type": "code",
   "execution_count": 113,
   "metadata": {},
   "outputs": [
    {
     "data": {
      "text/plain": [
       "(12107, 20)"
      ]
     },
     "execution_count": 113,
     "metadata": {},
     "output_type": "execute_result"
    }
   ],
   "source": [
    "#price starts from 0 and goes upto max 2.147484e+09 , but the price 0 is unrealistic\n",
    "data[data.price<50].shape"
   ]
  },
  {
   "cell_type": "code",
   "execution_count": 114,
   "metadata": {},
   "outputs": [
    {
     "data": {
      "text/plain": [
       "47500.0"
      ]
     },
     "execution_count": 114,
     "metadata": {},
     "output_type": "execute_result"
    }
   ],
   "source": [
    "#considering 50,000 as boundary since <0.5% data is above that price and we dont want model to be distorted with this data\n",
    "data['price'].quantile(0.995)"
   ]
  },
  {
   "cell_type": "code",
   "execution_count": 115,
   "metadata": {},
   "outputs": [
    {
     "data": {
      "text/plain": [
       "(1541, 20)"
      ]
     },
     "execution_count": 115,
     "metadata": {},
     "output_type": "execute_result"
    }
   ],
   "source": [
    "data[data.price > 50000].shape"
   ]
  },
  {
   "cell_type": "code",
   "execution_count": 116,
   "metadata": {},
   "outputs": [],
   "source": [
    "#only 1533 values are there above 50000 and 12000 enries below 100, lets remove them\n",
    "data = data[(data.price > 50) & (data.price < 50000) ]"
   ]
  },
  {
   "cell_type": "code",
   "execution_count": 117,
   "metadata": {},
   "outputs": [
    {
     "data": {
      "text/plain": [
       "<AxesSubplot:title={'center':'yearOfRegistration Vs Price after removing outliers'}, xlabel='yearOfRegistration', ylabel='price'>"
      ]
     },
     "execution_count": 117,
     "metadata": {},
     "output_type": "execute_result"
    },
    {
     "data": {
      "image/png": "[encoded data removed]",
      "text/plain": [
       "<Figure size 432x288 with 1 Axes>"
      ]
     },
     "metadata": {
      "needs_background": "light"
     },
     "output_type": "display_data"
    }
   ],
   "source": [
    "plt.title('yearOfRegistration Vs Price after removing outliers')\n",
    "sns.scatterplot(x='yearOfRegistration',y='price',data=data)"
   ]
  },
  {
   "cell_type": "code",
   "execution_count": 118,
   "metadata": {},
   "outputs": [
    {
     "data": {
      "text/plain": [
       "<AxesSubplot:title={'center':'powerPS Vs Price before removing outliers'}, xlabel='powerPS', ylabel='price'>"
      ]
     },
     "execution_count": 118,
     "metadata": {},
     "output_type": "execute_result"
    },
    {
     "data": {
      "image/png": "[encoded data removed]",
      "text/plain": [
       "<Figure size 432x288 with 1 Axes>"
      ]
     },
     "metadata": {
      "needs_background": "light"
     },
     "output_type": "display_data"
    }
   ],
   "source": [
    "plt.title('powerPS Vs Price before removing outliers')\n",
    "sns.scatterplot(x='powerPS',y='price',data=data)"
   ]
  },
  {
   "cell_type": "code",
   "execution_count": 119,
   "metadata": {},
   "outputs": [
    {
     "data": {
      "text/plain": [
       "count    353101.000000\n",
       "mean        116.231849\n",
       "std         186.886512\n",
       "min           0.000000\n",
       "25%          74.000000\n",
       "50%         107.000000\n",
       "75%         150.000000\n",
       "max       20000.000000\n",
       "Name: powerPS, dtype: float64"
      ]
     },
     "execution_count": 119,
     "metadata": {},
     "output_type": "execute_result"
    }
   ],
   "source": [
    "data['powerPS'].describe()"
   ]
  },
  {
   "cell_type": "code",
   "execution_count": 120,
   "metadata": {},
   "outputs": [
    {
     "data": {
      "text/plain": [
       "385.0"
      ]
     },
     "execution_count": 120,
     "metadata": {},
     "output_type": "execute_result"
    }
   ],
   "source": [
    "data['powerPS'].quantile(0.995)"
   ]
  },
  {
   "cell_type": "code",
   "execution_count": 121,
   "metadata": {},
   "outputs": [
    {
     "data": {
      "text/plain": [
       "35018"
      ]
     },
     "execution_count": 121,
     "metadata": {},
     "output_type": "execute_result"
    }
   ],
   "source": [
    "#We'll remove the so-called cars with 0 PS.\n",
    "#More than 1000 PS are suspicious too. \n",
    "data[(data['powerPS']==0)|(data['powerPS']>1000)]['powerPS'].count()"
   ]
  },
  {
   "cell_type": "code",
   "execution_count": 122,
   "metadata": {},
   "outputs": [],
   "source": [
    "data = data[(data['powerPS']>0)&(data['powerPS']<1000)]"
   ]
  },
  {
   "cell_type": "code",
   "execution_count": 175,
   "metadata": {},
   "outputs": [
    {
     "data": {
      "text/plain": [
       "<AxesSubplot:title={'center':'powerPS Vs Price after removing outliers'}, xlabel='powerPS', ylabel='price'>"
      ]
     },
     "execution_count": 175,
     "metadata": {},
     "output_type": "execute_result"
    },
    {
     "data": {
      "image/png": "[encoded data removed]",
      "text/plain": [
       "<Figure size 432x288 with 1 Axes>"
      ]
     },
     "metadata": {
      "needs_background": "light"
     },
     "output_type": "display_data"
    }
   ],
   "source": [
    "plt.title('powerPS Vs Price after removing outliers')\n",
    "sns.scatterplot(x='powerPS',y='price',data=data)"
   ]
  },
  {
   "cell_type": "code",
   "execution_count": 124,
   "metadata": {},
   "outputs": [
    {
     "data": {
      "text/html": [
       "<div>\n",
       "<style scoped>\n",
       "    .dataframe tbody tr th:only-of-type {\n",
       "        vertical-align: middle;\n",
       "    }\n",
       "\n",
       "    .dataframe tbody tr th {\n",
       "        vertical-align: top;\n",
       "    }\n",
       "\n",
       "    .dataframe thead th {\n",
       "        text-align: right;\n",
       "    }\n",
       "</style>\n",
       "<table border=\"1\" class=\"dataframe\">\n",
       "  <thead>\n",
       "    <tr style=\"text-align: right;\">\n",
       "      <th></th>\n",
       "      <th>price</th>\n",
       "      <th>yearOfRegistration</th>\n",
       "      <th>powerPS</th>\n",
       "      <th>monthOfRegistration</th>\n",
       "      <th>nrOfPictures</th>\n",
       "      <th>postalCode</th>\n",
       "    </tr>\n",
       "  </thead>\n",
       "  <tbody>\n",
       "    <tr>\n",
       "      <th>count</th>\n",
       "      <td>318081.000000</td>\n",
       "      <td>318081.000000</td>\n",
       "      <td>318081.000000</td>\n",
       "      <td>318081.000000</td>\n",
       "      <td>318081.0</td>\n",
       "      <td>318081.000000</td>\n",
       "    </tr>\n",
       "    <tr>\n",
       "      <th>mean</th>\n",
       "      <td>5935.161000</td>\n",
       "      <td>2003.494207</td>\n",
       "      <td>125.366004</td>\n",
       "      <td>5.989179</td>\n",
       "      <td>0.0</td>\n",
       "      <td>51487.479114</td>\n",
       "    </tr>\n",
       "    <tr>\n",
       "      <th>std</th>\n",
       "      <td>6832.537389</td>\n",
       "      <td>6.973478</td>\n",
       "      <td>60.555268</td>\n",
       "      <td>3.583479</td>\n",
       "      <td>0.0</td>\n",
       "      <td>25787.488908</td>\n",
       "    </tr>\n",
       "    <tr>\n",
       "      <th>min</th>\n",
       "      <td>55.000000</td>\n",
       "      <td>1951.000000</td>\n",
       "      <td>1.000000</td>\n",
       "      <td>0.000000</td>\n",
       "      <td>0.0</td>\n",
       "      <td>1067.000000</td>\n",
       "    </tr>\n",
       "    <tr>\n",
       "      <th>25%</th>\n",
       "      <td>1400.000000</td>\n",
       "      <td>1999.000000</td>\n",
       "      <td>80.000000</td>\n",
       "      <td>3.000000</td>\n",
       "      <td>0.0</td>\n",
       "      <td>31137.000000</td>\n",
       "    </tr>\n",
       "    <tr>\n",
       "      <th>50%</th>\n",
       "      <td>3490.000000</td>\n",
       "      <td>2004.000000</td>\n",
       "      <td>116.000000</td>\n",
       "      <td>6.000000</td>\n",
       "      <td>0.0</td>\n",
       "      <td>50679.000000</td>\n",
       "    </tr>\n",
       "    <tr>\n",
       "      <th>75%</th>\n",
       "      <td>7900.000000</td>\n",
       "      <td>2008.000000</td>\n",
       "      <td>150.000000</td>\n",
       "      <td>9.000000</td>\n",
       "      <td>0.0</td>\n",
       "      <td>72379.000000</td>\n",
       "    </tr>\n",
       "    <tr>\n",
       "      <th>max</th>\n",
       "      <td>49999.000000</td>\n",
       "      <td>2017.000000</td>\n",
       "      <td>999.000000</td>\n",
       "      <td>12.000000</td>\n",
       "      <td>0.0</td>\n",
       "      <td>99998.000000</td>\n",
       "    </tr>\n",
       "  </tbody>\n",
       "</table>\n",
       "</div>"
      ],
      "text/plain": [
       "               price  yearOfRegistration        powerPS  monthOfRegistration  \\\n",
       "count  318081.000000       318081.000000  318081.000000        318081.000000   \n",
       "mean     5935.161000         2003.494207     125.366004             5.989179   \n",
       "std      6832.537389            6.973478      60.555268             3.583479   \n",
       "min        55.000000         1951.000000       1.000000             0.000000   \n",
       "25%      1400.000000         1999.000000      80.000000             3.000000   \n",
       "50%      3490.000000         2004.000000     116.000000             6.000000   \n",
       "75%      7900.000000         2008.000000     150.000000             9.000000   \n",
       "max     49999.000000         2017.000000     999.000000            12.000000   \n",
       "\n",
       "       nrOfPictures     postalCode  \n",
       "count      318081.0  318081.000000  \n",
       "mean            0.0   51487.479114  \n",
       "std             0.0   25787.488908  \n",
       "min             0.0    1067.000000  \n",
       "25%             0.0   31137.000000  \n",
       "50%             0.0   50679.000000  \n",
       "75%             0.0   72379.000000  \n",
       "max             0.0   99998.000000  "
      ]
     },
     "execution_count": 124,
     "metadata": {},
     "output_type": "execute_result"
    }
   ],
   "source": [
    "data.describe()"
   ]
  },
  {
   "cell_type": "code",
   "execution_count": 125,
   "metadata": {},
   "outputs": [
    {
     "data": {
      "text/plain": [
       "<AxesSubplot:xlabel='kilometer', ylabel='price'>"
      ]
     },
     "execution_count": 125,
     "metadata": {},
     "output_type": "execute_result"
    },
    {
     "data": {
      "image/png": "[encoded data removed]",
      "text/plain": [
       "<Figure size 432x288 with 1 Axes>"
      ]
     },
     "metadata": {
      "needs_background": "light"
     },
     "output_type": "display_data"
    }
   ],
   "source": [
    "sns.scatterplot(x='kilometer',y='price',data=data)"
   ]
  },
  {
   "cell_type": "markdown",
   "metadata": {},
   "source": [
    "<h3> Data cleaning </h3>"
   ]
  },
  {
   "cell_type": "code",
   "execution_count": 126,
   "metadata": {},
   "outputs": [
    {
     "data": {
      "text/html": [
       "<div>\n",
       "<style scoped>\n",
       "    .dataframe tbody tr th:only-of-type {\n",
       "        vertical-align: middle;\n",
       "    }\n",
       "\n",
       "    .dataframe tbody tr th {\n",
       "        vertical-align: top;\n",
       "    }\n",
       "\n",
       "    .dataframe thead th {\n",
       "        text-align: right;\n",
       "    }\n",
       "</style>\n",
       "<table border=\"1\" class=\"dataframe\">\n",
       "  <thead>\n",
       "    <tr style=\"text-align: right;\">\n",
       "      <th></th>\n",
       "      <th>price</th>\n",
       "      <th>yearOfRegistration</th>\n",
       "      <th>powerPS</th>\n",
       "      <th>monthOfRegistration</th>\n",
       "      <th>nrOfPictures</th>\n",
       "      <th>postalCode</th>\n",
       "    </tr>\n",
       "  </thead>\n",
       "  <tbody>\n",
       "    <tr>\n",
       "      <th>price</th>\n",
       "      <td>1.000000</td>\n",
       "      <td>0.418071</td>\n",
       "      <td>0.569714</td>\n",
       "      <td>0.055548</td>\n",
       "      <td>NaN</td>\n",
       "      <td>0.080296</td>\n",
       "    </tr>\n",
       "    <tr>\n",
       "      <th>yearOfRegistration</th>\n",
       "      <td>0.418071</td>\n",
       "      <td>1.000000</td>\n",
       "      <td>0.163123</td>\n",
       "      <td>0.031246</td>\n",
       "      <td>NaN</td>\n",
       "      <td>0.033351</td>\n",
       "    </tr>\n",
       "    <tr>\n",
       "      <th>powerPS</th>\n",
       "      <td>0.569714</td>\n",
       "      <td>0.163123</td>\n",
       "      <td>1.000000</td>\n",
       "      <td>0.042652</td>\n",
       "      <td>NaN</td>\n",
       "      <td>0.063892</td>\n",
       "    </tr>\n",
       "    <tr>\n",
       "      <th>monthOfRegistration</th>\n",
       "      <td>0.055548</td>\n",
       "      <td>0.031246</td>\n",
       "      <td>0.042652</td>\n",
       "      <td>1.000000</td>\n",
       "      <td>NaN</td>\n",
       "      <td>0.003511</td>\n",
       "    </tr>\n",
       "    <tr>\n",
       "      <th>nrOfPictures</th>\n",
       "      <td>NaN</td>\n",
       "      <td>NaN</td>\n",
       "      <td>NaN</td>\n",
       "      <td>NaN</td>\n",
       "      <td>NaN</td>\n",
       "      <td>NaN</td>\n",
       "    </tr>\n",
       "    <tr>\n",
       "      <th>postalCode</th>\n",
       "      <td>0.080296</td>\n",
       "      <td>0.033351</td>\n",
       "      <td>0.063892</td>\n",
       "      <td>0.003511</td>\n",
       "      <td>NaN</td>\n",
       "      <td>1.000000</td>\n",
       "    </tr>\n",
       "  </tbody>\n",
       "</table>\n",
       "</div>"
      ],
      "text/plain": [
       "                        price  yearOfRegistration   powerPS  \\\n",
       "price                1.000000            0.418071  0.569714   \n",
       "yearOfRegistration   0.418071            1.000000  0.163123   \n",
       "powerPS              0.569714            0.163123  1.000000   \n",
       "monthOfRegistration  0.055548            0.031246  0.042652   \n",
       "nrOfPictures              NaN                 NaN       NaN   \n",
       "postalCode           0.080296            0.033351  0.063892   \n",
       "\n",
       "                     monthOfRegistration  nrOfPictures  postalCode  \n",
       "price                           0.055548           NaN    0.080296  \n",
       "yearOfRegistration              0.031246           NaN    0.033351  \n",
       "powerPS                         0.042652           NaN    0.063892  \n",
       "monthOfRegistration             1.000000           NaN    0.003511  \n",
       "nrOfPictures                         NaN           NaN         NaN  \n",
       "postalCode                      0.003511           NaN    1.000000  "
      ]
     },
     "execution_count": 126,
     "metadata": {},
     "output_type": "execute_result"
    }
   ],
   "source": [
    "data.corr()"
   ]
  },
  {
   "cell_type": "code",
   "execution_count": 127,
   "metadata": {},
   "outputs": [
    {
     "data": {
      "text/plain": [
       "<AxesSubplot:title={'center':'Correlation heatmap between numeric columns'}>"
      ]
     },
     "execution_count": 127,
     "metadata": {},
     "output_type": "execute_result"
    },
    {
     "data": {
      "image/png": "[encoded data removed]",
      "text/plain": [
       "<Figure size 432x288 with 2 Axes>"
      ]
     },
     "metadata": {
      "needs_background": "light"
     },
     "output_type": "display_data"
    }
   ],
   "source": [
    "plt.title('Correlation heatmap between numeric columns')\n",
    "sns.heatmap(data.corr(),annot=True)\n",
    "# No correlations in numerical columns"
   ]
  },
  {
   "cell_type": "code",
   "execution_count": 128,
   "metadata": {},
   "outputs": [
    {
     "data": {
      "text/plain": [
       "0.0    318081\n",
       "Name: nrOfPictures, dtype: int64"
      ]
     },
     "execution_count": 128,
     "metadata": {},
     "output_type": "execute_result"
    }
   ],
   "source": [
    "data['nrOfPictures'].value_counts()\n",
    "#nrOfPictures can be dropped in numerical columns"
   ]
  },
  {
   "cell_type": "code",
   "execution_count": 129,
   "metadata": {},
   "outputs": [
    {
     "data": {
      "text/plain": [
       "Angebot    318079\n",
       "Gesuch          2\n",
       "Name: offerType, dtype: int64"
      ]
     },
     "execution_count": 129,
     "metadata": {},
     "output_type": "execute_result"
    }
   ],
   "source": [
    "data['offerType'].value_counts()"
   ]
  },
  {
   "cell_type": "code",
   "execution_count": 130,
   "metadata": {},
   "outputs": [
    {
     "data": {
      "text/plain": [
       "privat        318079\n",
       "gewerblich         2\n",
       "Name: seller, dtype: int64"
      ]
     },
     "execution_count": 130,
     "metadata": {},
     "output_type": "execute_result"
    }
   ],
   "source": [
    "data['seller'].value_counts()"
   ]
  },
  {
   "cell_type": "code",
   "execution_count": 131,
   "metadata": {},
   "outputs": [],
   "source": [
    "#Same value through out the column - so doesn't effect the target\n",
    "data.drop(columns=['seller', 'offerType','nrOfPictures'],axis=1,inplace=True)"
   ]
  },
  {
   "cell_type": "code",
   "execution_count": 132,
   "metadata": {},
   "outputs": [
    {
     "data": {
      "text/plain": [
       "Index(['dateCrawled', 'name', 'price', 'abtest', 'vehicleType',\n",
       "       'yearOfRegistration', 'gearbox', 'powerPS', 'model', 'kilometer',\n",
       "       'monthOfRegistration', 'fuelType', 'brand', 'notRepairedDamage',\n",
       "       'dateCreated', 'postalCode', 'lastSeen'],\n",
       "      dtype='object')"
      ]
     },
     "execution_count": 132,
     "metadata": {},
     "output_type": "execute_result"
    }
   ],
   "source": [
    "data.columns"
   ]
  },
  {
   "cell_type": "code",
   "execution_count": 133,
   "metadata": {},
   "outputs": [],
   "source": [
    "#These columns wouldn't effect the price \n",
    "#dateCrawled = When the ad was first crawled\n",
    "#dateCreated = the date of which the ad was created\n",
    "#lastSeenOnline = when the crawler saw this ad last online\n",
    "#postalCode = postcode of the car location\n",
    "data.drop(['name','dateCrawled','dateCreated','lastSeen','postalCode'],axis=1,inplace=True)"
   ]
  },
  {
   "cell_type": "code",
   "execution_count": 134,
   "metadata": {},
   "outputs": [
    {
     "data": {
      "text/html": [
       "<div>\n",
       "<style scoped>\n",
       "    .dataframe tbody tr th:only-of-type {\n",
       "        vertical-align: middle;\n",
       "    }\n",
       "\n",
       "    .dataframe tbody tr th {\n",
       "        vertical-align: top;\n",
       "    }\n",
       "\n",
       "    .dataframe thead th {\n",
       "        text-align: right;\n",
       "    }\n",
       "</style>\n",
       "<table border=\"1\" class=\"dataframe\">\n",
       "  <thead>\n",
       "    <tr style=\"text-align: right;\">\n",
       "      <th></th>\n",
       "      <th>price</th>\n",
       "      <th>abtest</th>\n",
       "      <th>vehicleType</th>\n",
       "      <th>yearOfRegistration</th>\n",
       "      <th>gearbox</th>\n",
       "      <th>powerPS</th>\n",
       "      <th>model</th>\n",
       "      <th>kilometer</th>\n",
       "      <th>monthOfRegistration</th>\n",
       "      <th>fuelType</th>\n",
       "      <th>brand</th>\n",
       "      <th>notRepairedDamage</th>\n",
       "    </tr>\n",
       "  </thead>\n",
       "  <tbody>\n",
       "    <tr>\n",
       "      <th>1</th>\n",
       "      <td>18300.0</td>\n",
       "      <td>test</td>\n",
       "      <td>coupe</td>\n",
       "      <td>2011.0</td>\n",
       "      <td>manuell</td>\n",
       "      <td>190.0</td>\n",
       "      <td>golf</td>\n",
       "      <td>125000</td>\n",
       "      <td>5.0</td>\n",
       "      <td>diesel</td>\n",
       "      <td>audi</td>\n",
       "      <td>ja</td>\n",
       "    </tr>\n",
       "    <tr>\n",
       "      <th>2</th>\n",
       "      <td>9800.0</td>\n",
       "      <td>test</td>\n",
       "      <td>suv</td>\n",
       "      <td>2004.0</td>\n",
       "      <td>automatik</td>\n",
       "      <td>163.0</td>\n",
       "      <td>grand</td>\n",
       "      <td>125000</td>\n",
       "      <td>8.0</td>\n",
       "      <td>diesel</td>\n",
       "      <td>jeep</td>\n",
       "      <td>NaN</td>\n",
       "    </tr>\n",
       "    <tr>\n",
       "      <th>3</th>\n",
       "      <td>1500.0</td>\n",
       "      <td>test</td>\n",
       "      <td>kleinwagen</td>\n",
       "      <td>2001.0</td>\n",
       "      <td>manuell</td>\n",
       "      <td>75.0</td>\n",
       "      <td>golf</td>\n",
       "      <td>150000</td>\n",
       "      <td>6.0</td>\n",
       "      <td>benzin</td>\n",
       "      <td>volkswagen</td>\n",
       "      <td>nein</td>\n",
       "    </tr>\n",
       "    <tr>\n",
       "      <th>4</th>\n",
       "      <td>3600.0</td>\n",
       "      <td>test</td>\n",
       "      <td>kleinwagen</td>\n",
       "      <td>2008.0</td>\n",
       "      <td>manuell</td>\n",
       "      <td>69.0</td>\n",
       "      <td>fabia</td>\n",
       "      <td>90000</td>\n",
       "      <td>7.0</td>\n",
       "      <td>diesel</td>\n",
       "      <td>skoda</td>\n",
       "      <td>nein</td>\n",
       "    </tr>\n",
       "    <tr>\n",
       "      <th>5</th>\n",
       "      <td>650.0</td>\n",
       "      <td>test</td>\n",
       "      <td>limousine</td>\n",
       "      <td>1995.0</td>\n",
       "      <td>manuell</td>\n",
       "      <td>102.0</td>\n",
       "      <td>3er</td>\n",
       "      <td>150000</td>\n",
       "      <td>10.0</td>\n",
       "      <td>benzin</td>\n",
       "      <td>bmw</td>\n",
       "      <td>ja</td>\n",
       "    </tr>\n",
       "  </tbody>\n",
       "</table>\n",
       "</div>"
      ],
      "text/plain": [
       "     price abtest vehicleType  yearOfRegistration    gearbox  powerPS  model  \\\n",
       "1  18300.0   test       coupe              2011.0    manuell    190.0   golf   \n",
       "2   9800.0   test         suv              2004.0  automatik    163.0  grand   \n",
       "3   1500.0   test  kleinwagen              2001.0    manuell     75.0   golf   \n",
       "4   3600.0   test  kleinwagen              2008.0    manuell     69.0  fabia   \n",
       "5    650.0   test   limousine              1995.0    manuell    102.0    3er   \n",
       "\n",
       "  kilometer  monthOfRegistration fuelType       brand notRepairedDamage  \n",
       "1    125000                  5.0   diesel        audi                ja  \n",
       "2    125000                  8.0   diesel        jeep               NaN  \n",
       "3    150000                  6.0   benzin  volkswagen              nein  \n",
       "4     90000                  7.0   diesel       skoda              nein  \n",
       "5    150000                 10.0   benzin         bmw                ja  "
      ]
     },
     "execution_count": 134,
     "metadata": {},
     "output_type": "execute_result"
    }
   ],
   "source": [
    "data.head()"
   ]
  },
  {
   "cell_type": "markdown",
   "metadata": {},
   "source": [
    "# handling missing data"
   ]
  },
  {
   "cell_type": "code",
   "execution_count": 135,
   "metadata": {},
   "outputs": [],
   "source": [
    "data_copy = data.copy()"
   ]
  },
  {
   "cell_type": "code",
   "execution_count": 136,
   "metadata": {},
   "outputs": [
    {
     "data": {
      "text/plain": [
       "(318081, 12)"
      ]
     },
     "execution_count": 136,
     "metadata": {},
     "output_type": "execute_result"
    }
   ],
   "source": [
    "data.shape"
   ]
  },
  {
   "cell_type": "code",
   "execution_count": 137,
   "metadata": {},
   "outputs": [
    {
     "data": {
      "text/plain": [
       "price                   0.000000\n",
       "abtest                  0.000000\n",
       "vehicleType             5.374008\n",
       "yearOfRegistration      0.000000\n",
       "gearbox                 1.714649\n",
       "powerPS                 0.000000\n",
       "model                   3.623449\n",
       "kilometer               0.000000\n",
       "monthOfRegistration     0.000000\n",
       "fuelType                5.414298\n",
       "brand                   0.000000\n",
       "notRepairedDamage      13.512243\n",
       "dtype: float64"
      ]
     },
     "execution_count": 137,
     "metadata": {},
     "output_type": "execute_result"
    }
   ],
   "source": [
    "#percentage of null values in data\n",
    "(data.isnull().sum()/342519)*100"
   ]
  },
  {
   "cell_type": "code",
   "execution_count": 138,
   "metadata": {},
   "outputs": [
    {
     "data": {
      "text/plain": [
       "nein    242263\n",
       "ja       29536\n",
       "Name: notRepairedDamage, dtype: int64"
      ]
     },
     "execution_count": 138,
     "metadata": {},
     "output_type": "execute_result"
    }
   ],
   "source": [
    "data['notRepairedDamage'].value_counts()"
   ]
  },
  {
   "cell_type": "code",
   "execution_count": 139,
   "metadata": {},
   "outputs": [],
   "source": [
    "data['notRepairedDamage'].fillna(value=data['notRepairedDamage'].mode().iloc[0],inplace=True)"
   ]
  },
  {
   "cell_type": "code",
   "execution_count": 140,
   "metadata": {},
   "outputs": [
    {
     "data": {
      "text/plain": [
       "0"
      ]
     },
     "execution_count": 140,
     "metadata": {},
     "output_type": "execute_result"
    }
   ],
   "source": [
    "data['notRepairedDamage'].isna().sum()"
   ]
  },
  {
   "cell_type": "code",
   "execution_count": 141,
   "metadata": {},
   "outputs": [
    {
     "data": {
      "text/plain": [
       "golf        26417\n",
       "andere      22149\n",
       "3er         18384\n",
       "polo        10982\n",
       "corsa       10374\n",
       "astra        9355\n",
       "a4           9248\n",
       "passat       9079\n",
       "c_klasse     7840\n",
       "5er          7823\n",
       "Name: model, dtype: int64"
      ]
     },
     "execution_count": 141,
     "metadata": {},
     "output_type": "execute_result"
    }
   ],
   "source": [
    "#Too many unique values in model type lets find the maximum frequency value\n",
    "data['model'].value_counts()[:10]"
   ]
  },
  {
   "cell_type": "code",
   "execution_count": 142,
   "metadata": {},
   "outputs": [],
   "source": [
    "data['model'].fillna(value=data['model'].mode()[0],inplace=True)"
   ]
  },
  {
   "cell_type": "code",
   "execution_count": 143,
   "metadata": {},
   "outputs": [
    {
     "data": {
      "text/plain": [
       "0"
      ]
     },
     "execution_count": 143,
     "metadata": {},
     "output_type": "execute_result"
    }
   ],
   "source": [
    "data['model'].isna().sum()"
   ]
  },
  {
   "cell_type": "code",
   "execution_count": 144,
   "metadata": {},
   "outputs": [
    {
     "data": {
      "text/plain": [
       "benzin     196332\n",
       "diesel      97471\n",
       "lpg          4818\n",
       "cng           499\n",
       "hybrid        245\n",
       "andere         92\n",
       "elektro        79\n",
       "Name: fuelType, dtype: int64"
      ]
     },
     "execution_count": 144,
     "metadata": {},
     "output_type": "execute_result"
    }
   ],
   "source": [
    "data['fuelType'].value_counts()"
   ]
  },
  {
   "cell_type": "code",
   "execution_count": 145,
   "metadata": {},
   "outputs": [
    {
     "data": {
      "text/plain": [
       "0"
      ]
     },
     "execution_count": 145,
     "metadata": {},
     "output_type": "execute_result"
    }
   ],
   "source": [
    "data['fuelType'].fillna(data['fuelType'].mode().iloc[0],inplace=True)\n",
    "data['fuelType'].isna().sum()"
   ]
  },
  {
   "cell_type": "code",
   "execution_count": 146,
   "metadata": {},
   "outputs": [
    {
     "data": {
      "text/plain": [
       "manuell      242632\n",
       "automatik     69576\n",
       "Name: gearbox, dtype: int64"
      ]
     },
     "execution_count": 146,
     "metadata": {},
     "output_type": "execute_result"
    }
   ],
   "source": [
    "data['gearbox'].value_counts() "
   ]
  },
  {
   "cell_type": "code",
   "execution_count": 147,
   "metadata": {},
   "outputs": [
    {
     "data": {
      "text/plain": [
       "<AxesSubplot:xlabel='brand', ylabel='count'>"
      ]
     },
     "execution_count": 147,
     "metadata": {},
     "output_type": "execute_result"
    },
    {
     "data": {
      "image/png": "[encoded data removed]",
      "text/plain": [
       "<Figure size 1080x360 with 1 Axes>"
      ]
     },
     "metadata": {
      "needs_background": "light"
     },
     "output_type": "display_data"
    }
   ],
   "source": [
    "plt.figure(figsize=(15,5))\n",
    "plt.xticks(rotation=90)\n",
    "plt.ylim([0,25000])\n",
    "sns.countplot(x='brand',hue='gearbox',data=data)"
   ]
  },
  {
   "cell_type": "code",
   "execution_count": 148,
   "metadata": {},
   "outputs": [],
   "source": [
    "gearbox = data[\"gearbox\"].unique()\n",
    "brand = data[\"brand\"].unique()\n",
    "d = {}\n",
    "\n",
    "for i in brand :\n",
    "    m = 0\n",
    "    for j in gearbox :\n",
    "        if data[(data.gearbox == j) & (data.brand == i)].shape[0] > m :\n",
    "            m = data[(data.gearbox == j) & (data.brand == i)].shape[0]\n",
    "            d[i] = j"
   ]
  },
  {
   "cell_type": "code",
   "execution_count": 149,
   "metadata": {},
   "outputs": [],
   "source": [
    "for i in brand :\n",
    "    data.loc[(data.brand == i) & (data.gearbox.isnull()) ,\"gearbox\" ] = d[i]"
   ]
  },
  {
   "cell_type": "code",
   "execution_count": 150,
   "metadata": {},
   "outputs": [
    {
     "data": {
      "text/plain": [
       "0"
      ]
     },
     "execution_count": 150,
     "metadata": {},
     "output_type": "execute_result"
    }
   ],
   "source": [
    "data['gearbox'].isna().sum()"
   ]
  },
  {
   "cell_type": "code",
   "execution_count": 151,
   "metadata": {},
   "outputs": [
    {
     "data": {
      "text/plain": [
       "limousine     87075\n",
       "kleinwagen    70063\n",
       "kombi         61425\n",
       "bus           27514\n",
       "cabrio        20913\n",
       "coupe         16777\n",
       "suv           13381\n",
       "andere         2526\n",
       "Name: vehicleType, dtype: int64"
      ]
     },
     "execution_count": 151,
     "metadata": {},
     "output_type": "execute_result"
    }
   ],
   "source": [
    "data['vehicleType'].value_counts()"
   ]
  },
  {
   "cell_type": "code",
   "execution_count": 152,
   "metadata": {},
   "outputs": [
    {
     "data": {
      "text/plain": [
       "<AxesSubplot:xlabel='fuelType', ylabel='count'>"
      ]
     },
     "execution_count": 152,
     "metadata": {},
     "output_type": "execute_result"
    },
    {
     "data": {
      "image/png": "[encoded data removed]",
      "text/plain": [
       "<Figure size 1080x360 with 1 Axes>"
      ]
     },
     "metadata": {
      "needs_background": "light"
     },
     "output_type": "display_data"
    }
   ],
   "source": [
    "plt.figure(figsize=(15,5))\n",
    "plt.xticks(rotation=90)\n",
    "sns.countplot(x='fuelType',hue='vehicleType',data=data)"
   ]
  },
  {
   "cell_type": "code",
   "execution_count": 153,
   "metadata": {},
   "outputs": [
    {
     "name": "stdout",
     "output_type": "stream",
     "text": [
      "['diesel' 'benzin' 'lpg' 'andere' 'hybrid' 'cng' 'elektro']\n",
      "['coupe' 'suv' 'kleinwagen' 'limousine' 'cabrio' 'bus' 'kombi' nan\n",
      " 'andere']\n"
     ]
    }
   ],
   "source": [
    "vehicleType = data[\"vehicleType\"].unique()\n",
    "fuelType = data[\"fuelType\"].unique()\n",
    "print(fuelType)\n",
    "print(vehicleType)\n",
    "#remove nan \n",
    "vehicleType = np.delete(vehicleType,0)"
   ]
  },
  {
   "cell_type": "code",
   "execution_count": 154,
   "metadata": {},
   "outputs": [],
   "source": [
    "d={}\n",
    "for i in fuelType :\n",
    "    m = 0\n",
    "    for j in vehicleType :\n",
    "        if data[(data.vehicleType == j) & (data.fuelType == i)].shape[0] > m :\n",
    "            m = data[(data.vehicleType == j) & (data.fuelType == i)].shape[0]\n",
    "            d[i] = j\n",
    "for i in fuelType :\n",
    "    data.loc[(data.fuelType == i) & (data.vehicleType.isnull()) ,\"vehicleType\" ] = d[i]"
   ]
  },
  {
   "cell_type": "code",
   "execution_count": 155,
   "metadata": {},
   "outputs": [
    {
     "data": {
      "text/plain": [
       "False"
      ]
     },
     "execution_count": 155,
     "metadata": {},
     "output_type": "execute_result"
    }
   ],
   "source": [
    "data[\"vehicleType\"].isnull().any()"
   ]
  },
  {
   "cell_type": "code",
   "execution_count": 156,
   "metadata": {},
   "outputs": [
    {
     "data": {
      "text/plain": [
       "price                  0\n",
       "abtest                 0\n",
       "vehicleType            0\n",
       "yearOfRegistration     0\n",
       "gearbox                0\n",
       "powerPS                0\n",
       "model                  0\n",
       "kilometer              0\n",
       "monthOfRegistration    0\n",
       "fuelType               0\n",
       "brand                  0\n",
       "notRepairedDamage      0\n",
       "dtype: int64"
      ]
     },
     "execution_count": 156,
     "metadata": {},
     "output_type": "execute_result"
    }
   ],
   "source": [
    "data.isna().sum()"
   ]
  },
  {
   "cell_type": "code",
   "execution_count": 176,
   "metadata": {},
   "outputs": [
    {
     "data": {
      "text/plain": [
       "(318081, 12)"
      ]
     },
     "execution_count": 176,
     "metadata": {},
     "output_type": "execute_result"
    }
   ],
   "source": [
    "data.shape"
   ]
  },
  {
   "cell_type": "markdown",
   "metadata": {},
   "source": [
    "# label encoding"
   ]
  },
  {
   "cell_type": "code",
   "execution_count": 157,
   "metadata": {},
   "outputs": [],
   "source": [
    "from sklearn.preprocessing import LabelEncoder"
   ]
  },
  {
   "cell_type": "code",
   "execution_count": 158,
   "metadata": {},
   "outputs": [
    {
     "name": "stdout",
     "output_type": "stream",
     "text": [
      "<class 'pandas.core.frame.DataFrame'>\n",
      "Int64Index: 318081 entries, 1 to 371538\n",
      "Data columns (total 12 columns):\n",
      " #   Column               Non-Null Count   Dtype  \n",
      "---  ------               --------------   -----  \n",
      " 0   price                318081 non-null  float64\n",
      " 1   abtest               318081 non-null  object \n",
      " 2   vehicleType          318081 non-null  object \n",
      " 3   yearOfRegistration   318081 non-null  float64\n",
      " 4   gearbox              318081 non-null  object \n",
      " 5   powerPS              318081 non-null  float64\n",
      " 6   model                318081 non-null  object \n",
      " 7   kilometer            318081 non-null  object \n",
      " 8   monthOfRegistration  318081 non-null  float64\n",
      " 9   fuelType             318081 non-null  object \n",
      " 10  brand                318081 non-null  object \n",
      " 11  notRepairedDamage    318081 non-null  object \n",
      "dtypes: float64(4), object(8)\n",
      "memory usage: 39.6+ MB\n"
     ]
    }
   ],
   "source": [
    "data.info()"
   ]
  },
  {
   "cell_type": "code",
   "execution_count": 159,
   "metadata": {},
   "outputs": [],
   "source": [
    "data[\"vehicleType\"] =LabelEncoder().fit_transform(data[\"vehicleType\"])\n",
    "data[\"fuelType\"] =LabelEncoder().fit_transform(data[\"fuelType\"])\n",
    "data[\"gearbox\"] =LabelEncoder().fit_transform(data[\"gearbox\"])\n",
    "data[\"notRepairedDamage\"] =LabelEncoder().fit_transform(data[\"notRepairedDamage\"])\n",
    "data[\"brand\"] =LabelEncoder().fit_transform(data[\"brand\"])\n",
    "data[\"model\"] =LabelEncoder().fit_transform(data[\"model\"])\n",
    "data[\"abtest\"] =LabelEncoder().fit_transform(data[\"abtest\"])"
   ]
  },
  {
   "cell_type": "markdown",
   "metadata": {},
   "source": [
    " # splitting into training & testing data"
   ]
  },
  {
   "cell_type": "code",
   "execution_count": 160,
   "metadata": {},
   "outputs": [],
   "source": [
    "y  = data.iloc[:,0:1].values\n",
    "x =  data.iloc[:,1:12].values"
   ]
  },
  {
   "cell_type": "code",
   "execution_count": 161,
   "metadata": {},
   "outputs": [
    {
     "data": {
      "text/plain": [
       "array([[18300.],\n",
       "       [ 9800.],\n",
       "       [ 1500.],\n",
       "       ...,\n",
       "       [ 9200.],\n",
       "       [ 3400.],\n",
       "       [28990.]])"
      ]
     },
     "execution_count": 161,
     "metadata": {},
     "output_type": "execute_result"
    }
   ],
   "source": [
    "y"
   ]
  },
  {
   "cell_type": "code",
   "execution_count": 162,
   "metadata": {},
   "outputs": [
    {
     "data": {
      "text/plain": [
       "array([[1, 3, 2011.0, ..., 3, 1, 0],\n",
       "       [1, 7, 2004.0, ..., 3, 14, 1],\n",
       "       [1, 4, 2001.0, ..., 1, 38, 1],\n",
       "       ...,\n",
       "       [1, 1, 1996.0, ..., 3, 38, 1],\n",
       "       [1, 5, 2002.0, ..., 3, 38, 1],\n",
       "       [0, 6, 2013.0, ..., 1, 2, 1]], dtype=object)"
      ]
     },
     "execution_count": 162,
     "metadata": {},
     "output_type": "execute_result"
    }
   ],
   "source": [
    "x"
   ]
  },
  {
   "cell_type": "code",
   "execution_count": 163,
   "metadata": {},
   "outputs": [],
   "source": [
    "from sklearn.model_selection import train_test_split\n",
    "x_train,x_test,y_train,y_test=train_test_split(x,y,test_size=0.2,random_state=45)"
   ]
  },
  {
   "cell_type": "code",
   "execution_count": 164,
   "metadata": {},
   "outputs": [],
   "source": [
    "from sklearn.preprocessing import StandardScaler\n",
    "sc = StandardScaler()\n",
    "x_train = sc.fit_transform(x_train)\n",
    "x_test = sc.transform(x_test)"
   ]
  },
  {
   "cell_type": "code",
   "execution_count": 165,
   "metadata": {},
   "outputs": [
    {
     "data": {
      "text/plain": [
       "array([[-1.03527502,  0.96645957, -0.78520891, ...,  4.03900011,\n",
       "         1.29978405,  0.3191881 ],\n",
       "       [ 0.96592691, -0.24237022,  0.93289565, ..., -0.64903356,\n",
       "         1.15105457, -3.13294892],\n",
       "       [ 0.96592691,  0.96645957, -0.21250739, ...,  1.22617991,\n",
       "         1.29978405,  0.3191881 ],\n",
       "       ...,\n",
       "       [ 0.96592691, -0.24237022,  1.93512332, ..., -0.64903356,\n",
       "         1.29978405,  0.3191881 ],\n",
       "       [-1.03527502,  0.96645957, -1.35791043, ..., -0.64903356,\n",
       "         1.29978405,  0.3191881 ],\n",
       "       [-1.03527502, -0.24237022, -0.92838429, ..., -0.64903356,\n",
       "        -0.85679332,  0.3191881 ]])"
      ]
     },
     "execution_count": 165,
     "metadata": {},
     "output_type": "execute_result"
    }
   ],
   "source": [
    "x_train"
   ]
  },
  {
   "cell_type": "code",
   "execution_count": 166,
   "metadata": {},
   "outputs": [
    {
     "data": {
      "text/plain": [
       "array([[1600.],\n",
       "       [3150.],\n",
       "       [2350.],\n",
       "       ...,\n",
       "       [7900.],\n",
       "       [2400.],\n",
       "       [ 200.]])"
      ]
     },
     "execution_count": 166,
     "metadata": {},
     "output_type": "execute_result"
    }
   ],
   "source": [
    "y_train"
   ]
  },
  {
   "cell_type": "markdown",
   "metadata": {},
   "source": [
    "<h3> Model Training</h3>"
   ]
  },
  {
   "cell_type": "code",
   "execution_count": 167,
   "metadata": {},
   "outputs": [],
   "source": [
    "from sklearn.ensemble import RandomForestRegressor"
   ]
  },
  {
   "cell_type": "code",
   "execution_count": 168,
   "metadata": {},
   "outputs": [
    {
     "name": "stderr",
     "output_type": "stream",
     "text": [
      "C:\\Users\\DELL\\AppData\\Local\\Temp/ipykernel_6988/4116412282.py:3: DataConversionWarning: A column-vector y was passed when a 1d array was expected. Please change the shape of y to (n_samples,), for example using ravel().\n",
      "  rfr.fit(x_train, y_train)\n"
     ]
    },
    {
     "data": {
      "text/plain": [
       "array([6657.77      , 6691.77571429,  858.83      , ..., 2255.86      ,\n",
       "       5235.3675    ,  879.4       ])"
      ]
     },
     "execution_count": 168,
     "metadata": {},
     "output_type": "execute_result"
    }
   ],
   "source": [
    "# classifier\n",
    "rfr = RandomForestRegressor()\n",
    "rfr.fit(x_train, y_train)\n",
    "y_pred=rfr.predict(x_test)\n",
    "y_pred"
   ]
  },
  {
   "cell_type": "code",
   "execution_count": 169,
   "metadata": {},
   "outputs": [],
   "source": [
    "import math"
   ]
  },
  {
   "cell_type": "code",
   "execution_count": 170,
   "metadata": {},
   "outputs": [
    {
     "name": "stdout",
     "output_type": "stream",
     "text": [
      "r2-score: 90.1156240188297\n",
      "RMSE: 2149.7614672615205\n",
      "MAE: 1147.4962323225623\n"
     ]
    }
   ],
   "source": [
    "from sklearn.metrics import r2_score, mean_squared_error,mean_absolute_error\n",
    "print(f'r2-score: {r2_score(y_test,y_pred)*100}')\n",
    "print(f'RMSE: {math.sqrt(mean_squared_error(y_test,y_pred))}')\n",
    "print(f'MAE: {mean_absolute_error(y_test,y_pred)}')"
   ]
  },
  {
   "cell_type": "code",
   "execution_count": null,
   "metadata": {},
   "outputs": [],
   "source": []
  }
 ],
 "metadata": {
  "kernelspec": {
   "display_name": "Python 3 (ipykernel)",
   "language": "python",
   "name": "python3"
  },
  "language_info": {
   "codemirror_mode": {
    "name": "ipython",
    "version": 3
   },
   "file_extension": ".py",
   "mimetype": "text/x-python",
   "name": "python",
   "nbconvert_exporter": "python",
   "pygments_lexer": "ipython3",
   "version": "3.8.8"
  }
 },
 "nbformat": 4,
 "nbformat_minor": 4
}
